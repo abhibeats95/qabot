{
 "cells": [
  {
   "cell_type": "code",
   "execution_count": 3,
   "id": "425facaa",
   "metadata": {},
   "outputs": [],
   "source": [
    "import textwrap\n",
    "from typing import Optional, List\n",
    "\n",
    "import pydantic\n",
    "from langchain import LLMChain, OpenAI\n",
    "from langchain.agents import AgentExecutor, Tool\n",
    "from langchain.agents.chat.base import ChatAgent\n",
    "from langchain.agents import Tool, AgentExecutor, LLMSingleActionAgent, AgentOutputParser\n",
    "from langchain.output_parsers import PydanticOutputParser, OutputFixingParser\n",
    "from langchain.prompts import BaseChatPromptTemplate\n",
    "from langchain import SerpAPIWrapper, LLMChain\n",
    "from langchain.chat_models import ChatOpenAI\n",
    "from typing import List, Union\n",
    "from langchain.schema import AgentAction, AgentFinish, HumanMessage, OutputParserException, BaseOutputParser\n",
    "from langchain.tools import BaseTool\n",
    "from langchain.output_parsers import RetryWithErrorOutputParser\n",
    "\n",
    "from pydantic import Field, BaseModel, validator"
   ]
  },
  {
   "cell_type": "code",
   "execution_count": 1,
   "id": "437b35ea",
   "metadata": {},
   "outputs": [],
   "source": [
    "from qabot import ask_wikidata, ask_file"
   ]
  },
  {
   "cell_type": "code",
   "execution_count": 2,
   "id": "98b4e347",
   "metadata": {},
   "outputs": [
    {
     "name": "stdout",
     "output_type": "stream",
     "text": [
      "\n",
      "\n",
      "\u001b[1m> Entering new AgentExecutor chain...\u001b[0m\n",
      "\u001b[32;1m\u001b[1;3m{\n",
      "    \"action\": \"Data Op\",\n",
      "    \"action_input\": \"How many men were aboard the Splender? Please provide the relevant table and column names.\"\n",
      "}\u001b[0m\n",
      "\n",
      "\u001b[1m> Entering new AgentExecutor chain...\u001b[0m\n",
      "format error 1 validation error for CustomLLMResponse\n",
      "__root__\n",
      "  Expecting value: line 1 column 1 (char 0) (type=value_error.jsondecode; msg=Expecting value; doc=Query Inspector:\n",
      "```\n",
      "SELECT COUNT(*) FROM titanic_ WHERE Sex = 'male' AND Name LIKE '%Splender%';\n",
      "```; pos=0; lineno=1; colno=1)\n",
      "\u001b[32;1m\u001b[1;3m{\n",
      "\"type\": \"answer\",\n",
      "\"rational\": \"To find the number of male passengers with the name Splender, we need to filter the table by Sex and Name columns. We can do this by using the WHERE clause with appropriate conditions. Then we can count the number of rows returned using the COUNT() function. \",\n",
      "\"input\": \"\",\n",
      "\"result\": {\n",
      "    \"output\": \"There is 1 male passenger with the name Splender.\",\n",
      "    \"query\": \"SELECT COUNT(*) FROM titanic_ WHERE Sex = 'male' AND Name LIKE '%Splender%';\"\n",
      "}\n",
      "}\n",
      "\n",
      "\n",
      "\u001b[0m\n",
      "\n",
      "\u001b[1m> Finished chain.\u001b[0m\n",
      "\u001b[38;5;200m\u001b[1;3m{'table_names': 'table_name,table_schema\\nqabot_queries,main\\ntitanic_,main', 'input': 'How many men were aboard the Splender? Please provide the relevant table and column names.', 'output': \"There is 1 male passenger with the name Splender.\\nSQL Used:\\nSELECT COUNT(*) FROM titanic_ WHERE Sex = 'male' AND Name LIKE '%Splender%';\"}\u001b[0m\u001b[32;1m\u001b[1;3m{\n",
      "    \"action\": \"Final Answer\",\n",
      "    \"action_input\": \"There is 1 male passenger with the name Splender.\\nSQL Used:\\nSELECT COUNT(*) FROM titanic_ WHERE Sex = 'male' AND Name LIKE '%Splender%';\"\n",
      "}\u001b[0m\n",
      "\n",
      "\u001b[1m> Finished chain.\u001b[0m\n",
      "There is 1 male passenger with the name Splender.\n",
      "SQL Used:\n",
      "SELECT COUNT(*) FROM titanic_ WHERE Sex = 'male' AND Name LIKE '%Splender%';\n"
     ]
    }
   ],
   "source": [
    "print(ask_file(\"How many men were aboard the splender?\", 'data/titanic_.csv'))"
   ]
  },
  {
   "cell_type": "code",
   "execution_count": 5,
   "id": "2964fd87",
   "metadata": {},
   "outputs": [],
   "source": [
    "from qabot.tools.duckdb_execute_tool import DuckDBTool\n",
    "from qabot.duckdb_query import run_sql_catch_error\n",
    "from qabot.tools.describe_duckdb_table import describe_table_or_view"
   ]
  },
  {
   "cell_type": "code",
   "execution_count": 6,
   "id": "d1fec582",
   "metadata": {},
   "outputs": [],
   "source": [
    "class CustomPromptTemplate(BaseChatPromptTemplate):\n",
    "    # The template to use\n",
    "    template: str\n",
    "    # The list of tools available\n",
    "    tools: List[BaseTool]\n",
    "\n",
    "    def format_messages(self, **kwargs):\n",
    "        # Get the intermediate steps (AgentAction, Observation tuples)\n",
    "        # Format them in a particular way\n",
    "        intermediate_steps = kwargs.pop(\"intermediate_steps\")\n",
    "        if len(intermediate_steps) == 0:\n",
    "            thoughts = \"Thought: I should execute a query before giving my answer\\n\"\n",
    "        else:\n",
    "            thoughts = \"\"\n",
    "        for action, observation in intermediate_steps:\n",
    "            thoughts += action.log\n",
    "            thoughts += f\"\\nObservation: {observation}\\nThought: \"\n",
    "            \n",
    "\n",
    "        # Set the agent_scratchpad variable to that value\n",
    "        kwargs[\"agent_scratchpad\"] = thoughts\n",
    "        # Create a tools variable from the list of tools provided\n",
    "        kwargs[\"tools\"] = \"\\n\".join([f'\"{tool.name}\": {tool.description}' for tool in self.tools])\n",
    "        # Create a list of tool names for the tools provided\n",
    "        kwargs[\"tool_names\"] = \", \".join([tool.name for tool in self.tools])\n",
    "\n",
    "        kwargs['output_instructions'] = output_instructions\n",
    "\n",
    "        # TODO probably good to get the updated table names here\n",
    "        # table_names =\n",
    "        formatted = self.template.format(**kwargs)\n",
    "        return [\n",
    "            HumanMessage(content=formatted)\n",
    "        ]"
   ]
  },
  {
   "cell_type": "code",
   "execution_count": 7,
   "id": "ec9ce29b",
   "metadata": {},
   "outputs": [
    {
     "ename": "NameError",
     "evalue": "name 'database' is not defined",
     "output_type": "error",
     "traceback": [
      "\u001b[0;31m---------------------------------------------------------------------------\u001b[0m",
      "\u001b[0;31mNameError\u001b[0m                                 Traceback (most recent call last)",
      "Cell \u001b[0;32mIn[7], line 17\u001b[0m\n\u001b[1;32m      1\u001b[0m tools \u001b[38;5;241m=\u001b[39m [\n\u001b[1;32m      2\u001b[0m         Tool(\n\u001b[1;32m      3\u001b[0m             name\u001b[38;5;241m=\u001b[39m\u001b[38;5;124m\"\u001b[39m\u001b[38;5;124mShow Tables\u001b[39m\u001b[38;5;124m\"\u001b[39m,\n\u001b[1;32m      4\u001b[0m             func\u001b[38;5;241m=\u001b[39m\u001b[38;5;28;01mlambda\u001b[39;00m _: run_sql_catch_error(database, \u001b[38;5;124m\"\u001b[39m\u001b[38;5;124mshow tables;\u001b[39m\u001b[38;5;124m\"\u001b[39m),\n\u001b[1;32m      5\u001b[0m             description\u001b[38;5;241m=\u001b[39m\u001b[38;5;124m\"\u001b[39m\u001b[38;5;124mUseful to show the available tables and views. Empty input required.\u001b[39m\u001b[38;5;124m\"\u001b[39m\n\u001b[1;32m      6\u001b[0m         ),\n\u001b[1;32m      7\u001b[0m         Tool(\n\u001b[1;32m      8\u001b[0m             name\u001b[38;5;241m=\u001b[39m\u001b[38;5;124m\"\u001b[39m\u001b[38;5;124mDescribe Table\u001b[39m\u001b[38;5;124m\"\u001b[39m,\n\u001b[1;32m      9\u001b[0m             func\u001b[38;5;241m=\u001b[39m\u001b[38;5;28;01mlambda\u001b[39;00m table: describe_table_or_view(database, table),\n\u001b[1;32m     10\u001b[0m             description\u001b[38;5;241m=\u001b[39m\u001b[38;5;124m\"\u001b[39m\u001b[38;5;124mUseful to show the column names and types of a table or view. Also shows the first few rows. Use a valid table name as the input.\u001b[39m\u001b[38;5;124m\"\u001b[39m\n\u001b[1;32m     11\u001b[0m         ),\n\u001b[1;32m     12\u001b[0m         Tool(\n\u001b[1;32m     13\u001b[0m             name\u001b[38;5;241m=\u001b[39m\u001b[38;5;124m\"\u001b[39m\u001b[38;5;124mQuery Inspector\u001b[39m\u001b[38;5;124m\"\u001b[39m,\n\u001b[1;32m     14\u001b[0m             func\u001b[38;5;241m=\u001b[39m\u001b[38;5;28;01mlambda\u001b[39;00m query: query\u001b[38;5;241m.\u001b[39mstrip(\u001b[38;5;124m'\u001b[39m\u001b[38;5;124m\"\u001b[39m\u001b[38;5;124m'\u001b[39m)\u001b[38;5;241m.\u001b[39mstrip(\u001b[38;5;124m\"\u001b[39m\u001b[38;5;124m'\u001b[39m\u001b[38;5;124m\"\u001b[39m),\n\u001b[1;32m     15\u001b[0m             description\u001b[38;5;241m=\u001b[39m\u001b[38;5;124m\"\u001b[39m\u001b[38;5;124mUseful to show the query before execution. Always inspect your query before execution. Input MUST be on one line.\u001b[39m\u001b[38;5;124m\"\u001b[39m\n\u001b[1;32m     16\u001b[0m         ),\n\u001b[0;32m---> 17\u001b[0m         DuckDBTool(engine\u001b[38;5;241m=\u001b[39m\u001b[43mdatabase\u001b[49m),\n\u001b[1;32m     18\u001b[0m     ]\n",
      "\u001b[0;31mNameError\u001b[0m: name 'database' is not defined"
     ]
    }
   ],
   "source": [
    "tools = [\n",
    "        Tool(\n",
    "            name=\"Show Tables\",\n",
    "            func=lambda _: run_sql_catch_error(database, \"show tables;\"),\n",
    "            description=\"Useful to show the available tables and views. Empty input required.\"\n",
    "        ),\n",
    "        Tool(\n",
    "            name=\"Describe Table\",\n",
    "            func=lambda table: describe_table_or_view(database, table),\n",
    "            description=\"Useful to show the column names and types of a table or view. Also shows the first few rows. Use a valid table name as the input.\"\n",
    "        ),\n",
    "        Tool(\n",
    "            name=\"Query Inspector\",\n",
    "            func=lambda query: query.strip('\"').strip(\"'\"),\n",
    "            description=\"Useful to show the query before execution. Always inspect your query before execution. Input MUST be on one line.\"\n",
    "        ),\n",
    "        DuckDBTool(engine=database),\n",
    "    ]"
   ]
  },
  {
   "cell_type": "code",
   "execution_count": 4,
   "id": "504556fc",
   "metadata": {},
   "outputs": [
    {
     "ename": "NameError",
     "evalue": "name 'CustomPromptTemplate' is not defined",
     "output_type": "error",
     "traceback": [
      "\u001b[0;31m---------------------------------------------------------------------------\u001b[0m",
      "\u001b[0;31mNameError\u001b[0m                                 Traceback (most recent call last)",
      "Cell \u001b[0;32mIn[4], line 1\u001b[0m\n\u001b[0;32m----> 1\u001b[0m prompt \u001b[38;5;241m=\u001b[39m \u001b[43mCustomPromptTemplate\u001b[49m(\n\u001b[1;32m      2\u001b[0m         template\u001b[38;5;241m=\u001b[39mtemplate,\n\u001b[1;32m      3\u001b[0m         tools\u001b[38;5;241m=\u001b[39mtools,\n\u001b[1;32m      4\u001b[0m         \u001b[38;5;66;03m# This omits the `agent_scratchpad`, `tools`, `tool_names` variables because\u001b[39;00m\n\u001b[1;32m      5\u001b[0m         \u001b[38;5;66;03m# they are generated dynamically by the CustomPromptTemplate.\u001b[39;00m\n\u001b[1;32m      6\u001b[0m         input_variables\u001b[38;5;241m=\u001b[39m[\u001b[38;5;124m\"\u001b[39m\u001b[38;5;124minput\u001b[39m\u001b[38;5;124m\"\u001b[39m, \u001b[38;5;124m\"\u001b[39m\u001b[38;5;124mintermediate_steps\u001b[39m\u001b[38;5;124m\"\u001b[39m, \u001b[38;5;124m\"\u001b[39m\u001b[38;5;124mtable_names\u001b[39m\u001b[38;5;124m\"\u001b[39m]\n\u001b[1;32m      7\u001b[0m     )\n",
      "\u001b[0;31mNameError\u001b[0m: name 'CustomPromptTemplate' is not defined"
     ]
    }
   ],
   "source": [
    "prompt = CustomPromptTemplate(\n",
    "        template=template,\n",
    "        tools=tools,\n",
    "        # This omits the `agent_scratchpad`, `tools`, `tool_names` variables because\n",
    "        # they are generated dynamically by the CustomPromptTemplate.\n",
    "        input_variables=[\"input\", \"intermediate_steps\", \"table_names\"]\n",
    "    )"
   ]
  },
  {
   "cell_type": "code",
   "execution_count": null,
   "id": "68dc271a",
   "metadata": {},
   "outputs": [],
   "source": []
  },
  {
   "cell_type": "code",
   "execution_count": null,
   "id": "c034acfb",
   "metadata": {},
   "outputs": [],
   "source": []
  },
  {
   "cell_type": "code",
   "execution_count": null,
   "id": "9ea50b7b",
   "metadata": {},
   "outputs": [],
   "source": []
  }
 ],
 "metadata": {
  "kernelspec": {
   "display_name": "Python 3 (ipykernel)",
   "language": "python",
   "name": "python3"
  },
  "language_info": {
   "codemirror_mode": {
    "name": "ipython",
    "version": 3
   },
   "file_extension": ".py",
   "mimetype": "text/x-python",
   "name": "python",
   "nbconvert_exporter": "python",
   "pygments_lexer": "ipython3",
   "version": "3.11.2"
  }
 },
 "nbformat": 4,
 "nbformat_minor": 5
}
